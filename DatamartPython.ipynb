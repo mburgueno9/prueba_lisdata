{
 "cells": [
  {
   "cell_type": "markdown",
   "id": "c7bd102b-904f-456d-8af6-a799943bc710",
   "metadata": {},
   "source": [
    "Python:modelado y ETL\n",
    "Implementación del diseño del datamart mediante un script en python, usando librería pandas para el manejo de los dataframes."
   ]
  },
  {
   "cell_type": "code",
   "execution_count": 6,
   "id": "a14f106d-d633-4856-a39a-06760e00dcda",
   "metadata": {},
   "outputs": [
    {
     "name": "stdout",
     "output_type": "stream",
     "text": [
      "Requirement already satisfied: pandas in c:\\users\\mburg\\anaconda3\\lib\\site-packages (2.2.2)\n",
      "Requirement already satisfied: numpy>=1.26.0 in c:\\users\\mburg\\anaconda3\\lib\\site-packages (from pandas) (1.26.4)\n",
      "Requirement already satisfied: python-dateutil>=2.8.2 in c:\\users\\mburg\\anaconda3\\lib\\site-packages (from pandas) (2.9.0.post0)\n",
      "Requirement already satisfied: pytz>=2020.1 in c:\\users\\mburg\\anaconda3\\lib\\site-packages (from pandas) (2024.1)\n",
      "Requirement already satisfied: tzdata>=2022.7 in c:\\users\\mburg\\anaconda3\\lib\\site-packages (from pandas) (2023.3)\n",
      "Requirement already satisfied: six>=1.5 in c:\\users\\mburg\\anaconda3\\lib\\site-packages (from python-dateutil>=2.8.2->pandas) (1.16.0)\n",
      "Requirement already satisfied: numpy in c:\\users\\mburg\\anaconda3\\lib\\site-packages (1.26.4)\n"
     ]
    }
   ],
   "source": [
    "#Instalación de librerías\n",
    "!pip install pandas\n",
    "!pip install numpy"
   ]
  },
  {
   "cell_type": "code",
   "execution_count": 12,
   "id": "8e678ba7-3306-45c9-8449-668b7856fafb",
   "metadata": {},
   "outputs": [
    {
     "data": {
      "text/plain": [
       "(  Invoice;\"InboundDate\";\"Supplier\";\"OrderDate\";\"InvoiceDate\"\n",
       " 0  FFCC141196;\"2014-05-26\";\"PROV1650\";\"2014-05-10...        \n",
       " 1  FFCC141197;\"2014-05-20\";\"PROV40000235\";\"2014-0...        \n",
       " 2  FFCC141198;\"2014-05-12\";\"PROV1647\";\"2014-04-27...        \n",
       " 3  FFCC141199;\"2014-05-19\";\"PROV40001000\";\"2014-0...        \n",
       " 4  FFCC141200;\"2014-05-24\";\"PROV40000850\";\"2014-0...        ,\n",
       "   SupplierName;\"PaymentMethod\";\"PaymentTerms\";\"IDSupplier\";\"Country\";\"Currency\"\n",
       " 0  Proveedor 3;\"RECIBO\";\"1X30\";\"PROV41000270\";\"ES...                           \n",
       " 1  Proveedor 4;\"RECIBO\";\"1X60\";\"PROV1344\";\"ES\";\"EUR\"                           \n",
       " 2  Proveedor 12;\"RECIBO\";\"1X85\";\"PROV40000010\";\"E...                           \n",
       " 3  Proveedor 13;\"RECIBO\";\"1X60\";\"PROV40000187\";\"E...                           \n",
       " 4  Proveedor 14;\"RECIBO\";\"1X60\";\"PROV40000200\";\"E...                           )"
      ]
     },
     "execution_count": 12,
     "metadata": {},
     "output_type": "execute_result"
    }
   ],
   "source": [
    "#Cargamos y exploramos datos\n",
    "import pandas as pd\n",
    "\n",
    "invoices_header = pd.read_csv('DatosProyecto/invoices_header.csv')\n",
    "invoices_products = pd.read_csv('DatosProyecto/invoices_products.csv')\n",
    "products = pd.read_csv('DatosProyecto/products.csv')\n",
    "suppliers = pd.read_csv('DatosProyecto/suppliers.csv')\n",
    "daily_currencies = pd.read_csv('DatosProyecto/daily_currencies.csv')\n",
    "\n",
    "# Muestra las primeras filas de los datos\n",
    "invoices_header.head(), suppliers.head()\n"
   ]
  },
  {
   "cell_type": "markdown",
   "id": "b64c5478-b030-4cd2-bb58-f0d9ef75beca",
   "metadata": {},
   "source": [
    "Comprobación de los tipos de datos"
   ]
  },
  {
   "cell_type": "code",
   "execution_count": 16,
   "id": "5580f5eb-05b1-4cb1-bd19-59ec326cb6ec",
   "metadata": {
    "scrolled": true
   },
   "outputs": [
    {
     "name": "stdout",
     "output_type": "stream",
     "text": [
      "Invoice;\"InboundDate\";\"Supplier\";\"OrderDate\";\"InvoiceDate\"    object\n",
      "dtype: object\n",
      "Invoice;\"Quantity\";\"Product\";\"PurchasePrice (Unit)\";\"Section\"    object\n",
      "dtype: object\n",
      "Product;\"Type\";\"Division\";\"Group\";\"ShortDescription\";\"Description\"    object\n",
      "dtype: object\n",
      "SupplierName;\"PaymentMethod\";\"PaymentTerms\";\"IDSupplier\";\"Country\";\"Currency\"    object\n",
      "dtype: object\n",
      "Date;\"Open\";\"High\";\"Low\";\"Close\";\"Currency\"    object\n",
      "dtype: object\n"
     ]
    }
   ],
   "source": [
    "print(invoices_header.dtypes)\n",
    "print(invoices_products.dtypes)\n",
    "print(products.dtypes)\n",
    "print(suppliers.dtypes)\n",
    "print(daily_currencies.dtypes)"
   ]
  },
  {
   "cell_type": "markdown",
   "id": "90eaeb32-f9e9-4e18-90cd-d029ad165238",
   "metadata": {},
   "source": [
    "Los archivos usan punto y coma en vez de coma. Vamos a especificar el delimitador y convertimos las columnas a los tipos adecuados. "
   ]
  },
  {
   "cell_type": "code",
   "execution_count": 20,
   "id": "2754f6f7-22a6-4fa9-bdf3-33172eb069ab",
   "metadata": {},
   "outputs": [
    {
     "name": "stdout",
     "output_type": "stream",
     "text": [
      "Invoice        object\n",
      "InboundDate    object\n",
      "Supplier       object\n",
      "OrderDate      object\n",
      "InvoiceDate    object\n",
      "dtype: object\n",
      "Invoice                  object\n",
      "Quantity                  int64\n",
      "Product                  object\n",
      "PurchasePrice (Unit)    float64\n",
      "Section                  object\n",
      "dtype: object\n",
      "Product             object\n",
      "Type                object\n",
      "Division            object\n",
      "Group               object\n",
      "ShortDescription    object\n",
      "Description         object\n",
      "dtype: object\n",
      "SupplierName     object\n",
      "PaymentMethod    object\n",
      "PaymentTerms     object\n",
      "IDSupplier       object\n",
      "Country          object\n",
      "Currency         object\n",
      "dtype: object\n",
      "Date         object\n",
      "Open        float64\n",
      "High        float64\n",
      "Low         float64\n",
      "Close       float64\n",
      "Currency     object\n",
      "dtype: object\n"
     ]
    }
   ],
   "source": [
    "invoice_header = pd.read_csv('DatosProyecto/invoices_header.csv', sep=';')\n",
    "invoice_products = pd.read_csv('DatosProyecto/invoices_products.csv', sep=';')\n",
    "products = pd.read_csv('DatosProyecto/products.csv', sep=';')\n",
    "suppliers = pd.read_csv('DatosProyecto/suppliers.csv', sep=';')\n",
    "daily_currencies = pd.read_csv('DatosProyecto/daily_currencies.csv', sep=';')\n",
    "\n",
    "#Verificamos los tipos de datos después de haber corregido el delimitador\n",
    "print(invoice_header.dtypes)\n",
    "print(invoice_products.dtypes)\n",
    "print(products.dtypes)\n",
    "print(suppliers.dtypes)\n",
    "print(daily_currencies.dtypes)\n"
   ]
  },
  {
   "cell_type": "markdown",
   "id": "a211d20a-d6a2-4fc6-8b29-ae70c0f576bc",
   "metadata": {},
   "source": [
    "Convertimos la columna de fecha a datetime:"
   ]
  },
  {
   "cell_type": "code",
   "execution_count": 23,
   "id": "7ae7d90c-7b73-49ed-a1dd-3d1963ab5e6b",
   "metadata": {},
   "outputs": [],
   "source": [
    "# Convierte las columnas de fechas a tipo datetime\n",
    "invoice_header['InboundDate'] = pd.to_datetime(invoice_header['InboundDate'], format='%Y-%m-%d')\n",
    "invoice_header['OrderDate'] = pd.to_datetime(invoice_header['OrderDate'], format='%Y-%m-%d')\n",
    "invoice_header['InvoiceDate'] = pd.to_datetime(invoice_header['InvoiceDate'], format='%Y-%m-%d')\n"
   ]
  },
  {
   "cell_type": "markdown",
   "id": "ae11a56e-5e84-4f27-a16e-9a471b1314bc",
   "metadata": {},
   "source": [
    "Comprobamos si hay valores nulos "
   ]
  },
  {
   "cell_type": "code",
   "execution_count": 26,
   "id": "8cd89e93-66c5-424f-a1d8-e061a796d0eb",
   "metadata": {},
   "outputs": [
    {
     "data": {
      "text/plain": [
       "Invoice        0\n",
       "InboundDate    0\n",
       "Supplier       0\n",
       "OrderDate      0\n",
       "InvoiceDate    0\n",
       "dtype: int64"
      ]
     },
     "execution_count": 26,
     "metadata": {},
     "output_type": "execute_result"
    }
   ],
   "source": [
    "invoice_header.isnull().sum()"
   ]
  },
  {
   "cell_type": "markdown",
   "id": "5c4dd83f-1b23-415a-a540-3a4e12ac57d6",
   "metadata": {},
   "source": [
    "Revisamos que no haya valores nulos en los demas dataframes:"
   ]
  },
  {
   "cell_type": "code",
   "execution_count": 39,
   "id": "7c34a8bf-528c-470a-8bc8-cb48cd22fdc0",
   "metadata": {},
   "outputs": [
    {
     "name": "stdout",
     "output_type": "stream",
     "text": [
      "Valores nulos en invoice_products:\n",
      "Invoice                 0\n",
      "Quantity                0\n",
      "Product                 0\n",
      "PurchasePrice (Unit)    0\n",
      "Section                 0\n",
      "dtype: int64\n",
      "Valores nulos en products:\n",
      "Product                1\n",
      "Type                3393\n",
      "Division              21\n",
      "Group                 19\n",
      "ShortDescription     103\n",
      "Description            0\n",
      "dtype: int64\n",
      "Valores nulos en suppliers:\n",
      "SupplierName     0\n",
      "PaymentMethod    7\n",
      "PaymentTerms     6\n",
      "IDSupplier       0\n",
      "Country          0\n",
      "Currency         0\n",
      "dtype: int64\n",
      "Valores nulos en daily_currencies:\n",
      "Date        0\n",
      "Open        0\n",
      "High        0\n",
      "Low         0\n",
      "Close       0\n",
      "Currency    0\n",
      "dtype: int64\n"
     ]
    }
   ],
   "source": [
    "print(\"Valores nulos en invoice_products:\")\n",
    "print(invoice_products.isnull().sum())\n",
    "\n",
    "print(\"Valores nulos en products:\")\n",
    "print(products.isnull().sum())\n",
    "\n",
    "print(\"Valores nulos en suppliers:\")\n",
    "print(suppliers.isnull().sum())\n",
    "\n",
    "print(\"Valores nulos en daily_currencies:\")\n",
    "print(daily_currencies.isnull().sum())"
   ]
  },
  {
   "cell_type": "markdown",
   "id": "b3bf8acf-71d4-4b74-9ade-4ac2ee1a2476",
   "metadata": {},
   "source": [
    "La columna Product tiene 1 valor nulo. En este caso lo eliminamos. La columna Type tiene muchos valores nulos 3393. Podemos rellenarlos con un valor como 'Desconocido' en lugar de eliminarlos todos. Lo mismo haremos con los valores nulos encontrados en Division, Group, PaymentMethod, PaymentTerms y ShortDescription. "
   ]
  },
  {
   "cell_type": "code",
   "execution_count": 43,
   "id": "1774aee2-5864-47f2-81ba-3c010ab06968",
   "metadata": {},
   "outputs": [],
   "source": [
    "#Rellenamos los nulos en products\n",
    "products = products.fillna({\n",
    "    'Type': \"Desconocido\",\n",
    "    'Division': \"Desconocido\",\n",
    "    'Group': \"Desconocido\",\n",
    "    'ShortDescription': \"Desconocido\"\n",
    "})\n",
    "\n",
    "#Eliminamos la fila donde falta el ID de producto\n",
    "products = products.dropna(subset=['Product'])\n",
    "\n",
    "#Rellenamos nulos en suppliers\n",
    "\n",
    "suppliers = suppliers.fillna({\n",
    "    'PaymentMethod': \"No especificado\",\n",
    "    'PaymentTerms': \"No especificado\"\n",
    "})"
   ]
  },
  {
   "cell_type": "markdown",
   "id": "d6302ff8-2840-4a78-a97a-e338b04b5bc4",
   "metadata": {},
   "source": [
    "Verificamos los tipos de datos después de rellenar los valores nulos:"
   ]
  },
  {
   "cell_type": "code",
   "execution_count": 45,
   "id": "1595f07f-269e-46ba-baf2-aad936143c0c",
   "metadata": {},
   "outputs": [
    {
     "name": "stdout",
     "output_type": "stream",
     "text": [
      "Product             object\n",
      "Type                object\n",
      "Division            object\n",
      "Group               object\n",
      "ShortDescription    object\n",
      "Description         object\n",
      "dtype: object\n",
      "SupplierName     object\n",
      "PaymentMethod    object\n",
      "PaymentTerms     object\n",
      "IDSupplier       object\n",
      "Country          object\n",
      "Currency         object\n",
      "dtype: object\n",
      "Invoice                   object\n",
      "InboundDate       datetime64[ns]\n",
      "Supplier                  object\n",
      "OrderDate         datetime64[ns]\n",
      "InvoiceDate       datetime64[ns]\n",
      "lead_time_real             int64\n",
      "dtype: object\n",
      "Invoice                  object\n",
      "Quantity                  int64\n",
      "Product                  object\n",
      "PurchasePrice (Unit)    float64\n",
      "Section                  object\n",
      "dtype: object\n",
      "Date         object\n",
      "Open        float64\n",
      "High        float64\n",
      "Low         float64\n",
      "Close       float64\n",
      "Currency     object\n",
      "dtype: object\n"
     ]
    }
   ],
   "source": [
    "print(products.dtypes)\n",
    "print(suppliers.dtypes)\n",
    "print(invoice_header.dtypes)\n",
    "print(invoice_products.dtypes)\n",
    "print(daily_currencies.dtypes)"
   ]
  },
  {
   "cell_type": "markdown",
   "id": "3e00b8ed-d536-4d6d-9190-6176aedeb2fd",
   "metadata": {},
   "source": [
    "Calculamos el Lead Time como la diferencia entre la fecha de recepción y la de pedido"
   ]
  },
  {
   "cell_type": "code",
   "execution_count": 29,
   "id": "afc51c83-1176-4f84-acc7-d7fe08d913de",
   "metadata": {},
   "outputs": [],
   "source": [
    "invoice_header['lead_time_real'] = (invoice_header['InboundDate'] - invoice_header['OrderDate']).dt.days\n"
   ]
  },
  {
   "cell_type": "code",
   "execution_count": 47,
   "id": "cd0499b2-eba9-4a33-be2b-f643fdbafb2c",
   "metadata": {},
   "outputs": [
    {
     "name": "stdout",
     "output_type": "stream",
     "text": [
      "  InboundDate  OrderDate  lead_time_real\n",
      "0  2014-05-26 2014-05-10              16\n",
      "1  2014-05-20 2014-04-13              37\n",
      "2  2014-05-12 2014-04-27              15\n",
      "3  2014-05-19 2014-03-24              56\n",
      "4  2014-05-24 2014-05-11              13\n",
      "5  2014-05-15 2014-04-03              42\n",
      "6  2014-05-30 2014-04-15              45\n",
      "7  2014-05-26 2014-05-05              21\n",
      "8  2014-05-27 2014-04-20              37\n",
      "9  2014-05-01 2014-04-06              25\n"
     ]
    }
   ],
   "source": [
    "print(invoice_header[['InboundDate', 'OrderDate', 'lead_time_real']].head(10))"
   ]
  },
  {
   "cell_type": "markdown",
   "id": "4c4cd0dd-a10c-4010-aa83-95e19edb16cd",
   "metadata": {},
   "source": [
    "De esta forma hemos comprobado si había valores nulos, limpiado los nombres de las columnas y convertido a formato datetime las fechas y calculado el Lead Time."
   ]
  },
  {
   "cell_type": "markdown",
   "id": "bf3ddf7f-52b3-4f79-af1f-4cbc8ac56b0c",
   "metadata": {},
   "source": [
    "Por último, guardamos los dataframes en archivos csv transformados"
   ]
  },
  {
   "cell_type": "code",
   "execution_count": 33,
   "id": "e1f09cc8-c9e5-4b71-ab14-69abc2aa44e6",
   "metadata": {},
   "outputs": [],
   "source": [
    "invoice_header.to_csv('Invoice_header_transformed.csv', index=False)\n",
    "invoice_products.to_csv('Invoice_products_transformed.csv', index=False)\n",
    "products.to_csv('Products_transformed.csv', index=False)\n",
    "suppliers.to_csv('Suppliers_transformed.csv', index=False)\n",
    "daily_currencies.to_csv('Daily_currencies_transformed.csv', index=False)"
   ]
  },
  {
   "cell_type": "markdown",
   "id": "e3662576-c5fb-47b9-ba7c-77c31818855d",
   "metadata": {},
   "source": [
    "Verificamos que los archivos se han guardado correctamente:"
   ]
  },
  {
   "cell_type": "code",
   "execution_count": 36,
   "id": "8df2b7ef-efa2-4eee-a5cc-17814784cec0",
   "metadata": {},
   "outputs": [
    {
     "name": "stdout",
     "output_type": "stream",
     "text": [
      "      Invoice InboundDate      Supplier   OrderDate InvoiceDate  \\\n",
      "0  FFCC141196  2014-05-26      PROV1650  2014-05-10  2014-05-29   \n",
      "1  FFCC141197  2014-05-20  PROV40000235  2014-04-13  2014-05-23   \n",
      "2  FFCC141198  2014-05-12      PROV1647  2014-04-27  2014-05-15   \n",
      "3  FFCC141199  2014-05-19  PROV40001000  2014-03-24  2014-05-22   \n",
      "4  FFCC141200  2014-05-24  PROV40000850  2014-05-11  2014-05-27   \n",
      "\n",
      "   lead_time_real  \n",
      "0              16  \n",
      "1              37  \n",
      "2              15  \n",
      "3              56  \n",
      "4              13  \n"
     ]
    }
   ],
   "source": [
    "check_df = pd.read_csv('Invoice_header_transformed.csv')\n",
    "print(check_df.head())"
   ]
  },
  {
   "cell_type": "markdown",
   "id": "702ba65c-efec-4111-90f9-a948f5e92905",
   "metadata": {},
   "source": [
    "El archivo se ha guardado correctamente y los datos se ven bien estructurados. "
   ]
  }
 ],
 "metadata": {
  "kernelspec": {
   "display_name": "Python [conda env:base] *",
   "language": "python",
   "name": "conda-base-py"
  },
  "language_info": {
   "codemirror_mode": {
    "name": "ipython",
    "version": 3
   },
   "file_extension": ".py",
   "mimetype": "text/x-python",
   "name": "python",
   "nbconvert_exporter": "python",
   "pygments_lexer": "ipython3",
   "version": "3.12.7"
  }
 },
 "nbformat": 4,
 "nbformat_minor": 5
}
