{
 "cells": [
  {
   "cell_type": "markdown",
   "id": "91a4d198",
   "metadata": {},
   "source": [
    "# Prueba Técnica DS\n",
    "\n",
    "El proposito de esta prueba técnica es comprobar si el candidato posee conocimientos de Python (básico y aplicados a ML). Desde Python 3, aconsejamos usar las siguientes librerias (salvo que se indique lo contrario): **numpy, pandas, matplotlib**\n",
    "\n"
   ]
  },
  {
   "cell_type": "markdown",
   "id": "e294cb01",
   "metadata": {},
   "source": [
    "## Bloque 1: Python general"
   ]
  },
  {
   "cell_type": "markdown",
   "id": "c28d98a3",
   "metadata": {},
   "source": [
    "### 1.1: Escribe una función que te devuelva una matriz de números aleatorios entre 1 y 100 con 2 decimales. El número de filas y columnas de la matriz será determinado por sendos parámetros. Utiliza la función para crear una matriz de 10 filas y 7 columnas.\n",
    "<font color=\"#9E1B32\">**(No utilices NUMPY ni PANDAS en este apartado 1.1, en los demás puedes usarlo)**</font>\n"
   ]
  },
  {
   "cell_type": "code",
   "execution_count": 7,
   "id": "ad94aab2",
   "metadata": {
    "scrolled": true
   },
   "outputs": [
    {
     "name": "stdout",
     "output_type": "stream",
     "text": [
      "[5.26, 38.63, 3.94, 57.94, 52.09, 88.98, 87.51]\n",
      "[73.42, 55.15, 79.93, 73.14, 32.35, 67.72, 52.38]\n",
      "[70.73, 20.68, 63.45, 31.29, 98.78, 53.95, 14.47]\n",
      "[42.55, 74.01, 5.37, 49.74, 62.59, 78.02, 13.2]\n",
      "[35.48, 36.7, 66.35, 8.75, 26.56, 49.87, 49.76]\n",
      "[59.99, 4.02, 16.02, 27.72, 29.34, 73.98, 69.53]\n",
      "[48.12, 60.7, 91.67, 60.78, 76.26, 84.42, 9.04]\n",
      "[26.38, 4.9, 43.16, 81.97, 50.45, 5.21, 31.61]\n",
      "[81.55, 72.66, 49.67, 46.09, 83.43, 46.26, 2.9]\n",
      "[44.01, 75.76, 85.09, 53.54, 32.23, 94.73, 58.54]\n"
     ]
    }
   ],
   "source": [
    "#Utilizamos random para crear la matriz\n",
    "import random \n",
    "\n",
    "#Función para generar la matriz:\n",
    "\n",
    "def generar_matriz (filas, columnas):\n",
    "    matriz = []\n",
    "    for i in range(filas):\n",
    "        fila = [round(random.uniform(1, 100), 2) for _ in range(columnas)]\n",
    "        matriz.append(fila)\n",
    "    return matriz\n",
    "#Creamos la matriz de 10 filas y 7 columnas\n",
    "matriz_lis=generar_matriz(10,7)\n",
    "\n",
    "#Hacemos print de la matriz\n",
    "for fila in matriz_lis:\n",
    "    print(fila)"
   ]
  },
  {
   "cell_type": "markdown",
   "id": "8850d0ee-3c32-4278-9e30-aa3dd6f23af5",
   "metadata": {},
   "source": [
    "La función 'random' genera números aleatorios entre 1 y 100. Redondeamos a dos decimales con round(). Por cada fila se crea una lista de números aleatorios con la cantidad de columnas deseada. En este caso, 10 filas y 7 columnas. Imprimimos matriz con un bucle. "
   ]
  },
  {
   "cell_type": "markdown",
   "id": "ad851c55-9efb-46a0-8627-37a618e9a293",
   "metadata": {},
   "source": [
    "### 1.2: Normaliza los elementos de la matriz anterior, de modo que todos los valores se encuentren entre 0 y 1\n"
   ]
  },
  {
   "cell_type": "code",
   "execution_count": 22,
   "id": "cdfab60d-b097-49a6-a151-460595d2cb04",
   "metadata": {},
   "outputs": [
    {
     "name": "stdout",
     "output_type": "stream",
     "text": [
      "[0.02, 0.37, 0.01, 0.57, 0.51, 0.9, 0.88]\n",
      "[0.74, 0.54, 0.8, 0.73, 0.31, 0.68, 0.52]\n",
      "[0.71, 0.19, 0.63, 0.3, 1.0, 0.53, 0.12]\n",
      "[0.41, 0.74, 0.03, 0.49, 0.62, 0.78, 0.11]\n",
      "[0.34, 0.35, 0.66, 0.06, 0.25, 0.49, 0.49]\n",
      "[0.6, 0.01, 0.14, 0.26, 0.28, 0.74, 0.69]\n",
      "[0.47, 0.6, 0.93, 0.6, 0.77, 0.85, 0.06]\n",
      "[0.24, 0.02, 0.42, 0.82, 0.5, 0.02, 0.3]\n",
      "[0.82, 0.73, 0.49, 0.45, 0.84, 0.45, 0.0]\n",
      "[0.43, 0.76, 0.86, 0.53, 0.31, 0.96, 0.58]\n"
     ]
    }
   ],
   "source": [
    "def normalizar_matriz(matriz_lis):\n",
    "    # Encontramos el valor mínimo y máximo de toda la matriz\n",
    "    min_val = min(min(fila) for fila in matriz_lis)  # Encontrar el valor mínimo\n",
    "    max_val = max(max(fila) for fila in matriz_lis)  # Encontrar el valor máximo\n",
    "    \n",
    "    # Aplicamos la normalización\n",
    "    matriz_normalizada = [\n",
    "        [round((valor - min_val) / (max_val - min_val), 2) for valor in fila]\n",
    "        for fila in matriz_lis\n",
    "    ]\n",
    "    \n",
    "    return matriz_normalizada\n",
    "\n",
    "# Normalizamos la matriz generada\n",
    "matriz_normalizada = normalizar_matriz(matriz_lis)\n",
    "\n",
    "# Imprimimos la matriz normalizada\n",
    "for fila in matriz_normalizada:\n",
    "    print(fila)\n"
   ]
  },
  {
   "cell_type": "markdown",
   "id": "fe5e606b-eaf1-4745-97f0-137721dccd3f",
   "metadata": {},
   "source": [
    "Usamos la función min() y max() para encontrar los valores más pequeños y los más grandes de la matriz. Normalizamos los valores con la fórmula (valor -min_val)/ (max_val-min_val). El valor mínimo se convierte en 0 y el máximo en 1. Redondeamos los valores con la función round (valor,2) para redondearlos a dos decimales. Por último, creamos una nueva matriz normalizada yla imprimimos. "
   ]
  },
  {
   "cell_type": "markdown",
   "id": "73e134a0",
   "metadata": {},
   "source": [
    "### 1.3: A partir de la matriz normalizada, filtra todos aquellos valores comprendidos entre 0.10 y 0.90\n",
    "El resultado debe ser un vector con dichos valores ordenados descendentemente"
   ]
  },
  {
   "cell_type": "code",
   "execution_count": 35,
   "id": "9476dcd1-d511-4296-b7a5-22e606935c73",
   "metadata": {},
   "outputs": [
    {
     "name": "stdout",
     "output_type": "stream",
     "text": [
      "[0.9, 0.88, 0.86, 0.85, 0.84, 0.82, 0.82, 0.8, 0.78, 0.77, 0.76, 0.74, 0.74, 0.74, 0.73, 0.73, 0.71, 0.69, 0.68, 0.66, 0.63, 0.62, 0.6, 0.6, 0.6, 0.58, 0.57, 0.54, 0.53, 0.53, 0.52, 0.51, 0.5, 0.49, 0.49, 0.49, 0.49, 0.47, 0.45, 0.45, 0.43, 0.42, 0.41, 0.37, 0.35, 0.34, 0.31, 0.31, 0.3, 0.3, 0.28, 0.26, 0.25, 0.24, 0.19, 0.14, 0.12, 0.11]\n"
     ]
    }
   ],
   "source": [
    "# Filtramos los valores con una función y los ordenamos entre 0.10 y 0.90\n",
    "def filtrar_ordenar(matriz_normalizada):\n",
    "    # Filtramos los valores entre 0.10 y 0.90\n",
    "    valores_filtrados = [\n",
    "        valor for fila in matriz_normalizada for valor in fila if 0.10 <= valor <= 0.90\n",
    "    ]\n",
    "    \n",
    "    #Ordenamos los valores filtrados de manera descendente\n",
    "    valores_ordenados = sorted(valores_filtrados, reverse=True)\n",
    "    \n",
    "    #Retornamos el vector ordenado\n",
    "    return valores_ordenados\n",
    "\n",
    "#Filtramos y ordenamos los valores de la matriz normalizada\n",
    "valores_filtrados_ordenados = filtrar_ordenar(matriz_normalizada)\n",
    "\n",
    "#Imprimimos\n",
    "print(valores_filtrados_ordenados)"
   ]
  },
  {
   "cell_type": "markdown",
   "id": "c099d66c",
   "metadata": {},
   "source": [
    "## Bloque 2: Exploración de Datos"
   ]
  },
  {
   "cell_type": "markdown",
   "id": "22db0535",
   "metadata": {},
   "source": [
    "Se dispone de un conjunto de datos que contiene observaciones de vuelos nacionales estadounidenses en 2023, almacenado en el fichero vuelos.csv,  que consta de los siguientes campos:\n",
    "\n",
    "* Fecha: La fecha del vuelo, en formato YYYY-MM-DD\n",
    "* Compañía: La abreviatura de dos letras de la compañía aérea.\n",
    "* AeropuertoOrigenID: Identificador numérico único del aeropuerto de salida.\n",
    "* AeropuertoOrigen: El nombre completo del aeropuerto de salida\n",
    "* AeropuertoDestinoID: Identificador numérico único del aeropuerto de destino\n",
    "* AeropuertoDestino: El nombre completo del aeropuerto de destino\n",
    "* HoraSalidaProgramada: La hora de salida programada\n",
    "* RetrasoSalida: El número de minutos que se retrasó la salida (los vuelos que salieron antes de lo previsto tienen un valor negativo)\n",
    "* SalidaTarde: Un indicador binario de que la salida se retrasó más de 15 minutos (y por lo tanto se considera \"tarde\"). Si se retrasa menos, se considera \"puntual\".\n",
    "* HoraLlegadaProgramada: La hora de llegada programada\n",
    "* RetrasoLlegada: El número de minutos que se retrasó la llegada (el vuelo que llegó antes de lo previsto tiene un valor negativo)\n",
    "* LlegadaTarde: Un indicador binario de que la llegada se retrasó más de 15 minutos (y por lo tanto se considera \"tarde\"). Si se retrasa menos, se considera \"puntual\".\n",
    "* Cancelado: Un indicador binario que indica si l vuelo fue cancelado\n",
    "\n",
    "## El reto consiste en explorar los datos de los vuelos para analizar los posibles factores que afectan a los retrasos en la salida o llegada.\n",
    "\n",
    "### 2.1 Empezaremos por limpiar los datos.\n",
    "* Identifica cualquier dato nulo o faltante, y tratalo convenientemente.\n",
    "* Identifica y elimina cualquier valor atípico (outliers) en las columnas que determinan los retrasos de llegada y salida.\n",
    "### 2.2 Utilice estadísticas, funciones de agregación y visualizaciones para responder a las siguientes preguntas:\n",
    "* ¿Cuáles son los retrasos medios de salida y llegada?\n",
    "* ¿Cómo se comportan las compañías aéreas en cuanto a los retrasos de llegada y salida medios se refiere?\n",
    "* ¿Qué aeropuerto tiene el mayor número de retrasos de salida?\n",
    "\n",
    "<font color=\"#9E1B32\">**(Justifica y explica todas tus respuestas y acciones, con comentarios apropiados.)**</font>\n",
    "\n"
   ]
  },
  {
   "cell_type": "markdown",
   "id": "35a00eae-a8bf-4fd2-bec8-e299c857b195",
   "metadata": {},
   "source": [
    "**2.1 Limpieza de los datos**"
   ]
  },
  {
   "cell_type": "markdown",
   "id": "87f8dfca-8613-4599-8ea2-6c5af55d2a54",
   "metadata": {},
   "source": [
    "* Identifica cualquier dato nulo o faltante, y tratalo convenientemente.\n"
   ]
  },
  {
   "cell_type": "code",
   "execution_count": 37,
   "id": "fe01e04c-519b-4d3d-941a-52ef0a5e57cd",
   "metadata": {},
   "outputs": [
    {
     "name": "stdout",
     "output_type": "stream",
     "text": [
      "Fecha                       0\n",
      "Compañía                    0\n",
      "AeropuertoOrigenID          0\n",
      "AeropuertoOrigen            0\n",
      "AeropuertoDestinoID         0\n",
      "AeropuertoDestino           0\n",
      "HoraSalidaProgramada        0\n",
      "RetrasoSalida               0\n",
      "SalidaTarde              2761\n",
      "HoraLlegadaProgramada       0\n",
      "RetrasoLlegada              0\n",
      "LlegadaTarde                0\n",
      "Cancelado                   0\n",
      "dtype: int64\n"
     ]
    }
   ],
   "source": [
    "#Importamos la librería pandas\n",
    "\n",
    "import pandas as pd\n",
    "\n",
    "#Cargamos los datos\n",
    "df= pd.read_csv('vuelos.csv')\n",
    "\n",
    "#Identificamos valores nulos\n",
    "\n",
    "print(df.isnull().sum())\n"
   ]
  },
  {
   "cell_type": "markdown",
   "id": "df4b3407-e8e4-4fa0-b85b-a62b2ddbd97c",
   "metadata": {},
   "source": [
    "El resultado muestra que el campo SalidaTarde tiene 2761 valores nulos, mientras que las demás no tienen valores faltantes. Tendremos que tratar los valores nulos en esta columna en concreto."
   ]
  },
  {
   "cell_type": "code",
   "execution_count": 39,
   "id": "3489ccdc-3956-4847-a736-be718e30b5d0",
   "metadata": {},
   "outputs": [
    {
     "name": "stdout",
     "output_type": "stream",
     "text": [
      "0    0.0\n",
      "1    0.0\n",
      "2    0.0\n",
      "3    1.0\n",
      "4    0.0\n",
      "Name: SalidaTarde, dtype: float64\n"
     ]
    }
   ],
   "source": [
    "#Verificamos los primeros valores de la columna Salida Tarde\n",
    "\n",
    "print(df['SalidaTarde'].head())"
   ]
  },
  {
   "cell_type": "markdown",
   "id": "b9298743-4246-41f4-9993-b4bb45080a3f",
   "metadata": {},
   "source": [
    "Vemos que es una columna binaria con valores nulos. Dado la columna Retraso Salida no tiene valores nulos o faltantes y sí proporciona información que nos puede hacer saber si el vuelo se ha retrasado en la salida o no, decidimos utilizarla. La columna Retraso Salida tiene el número de minutos que se retraso´el vuelo, así que si el valor de Retraso Salida es mayor a 15 se puede considerar que salió tarde, y si es menor o igual a 15 se considera puntual. De esta forma no imputamos ni eliminamos filas, eliminando sesgos y eliminación de datos."
   ]
  },
  {
   "cell_type": "markdown",
   "id": "d4722101-d493-4d2b-b8d1-fdfb88aff7ca",
   "metadata": {},
   "source": [
    "Creamos una nueva columna Salida Tarde con una condición basada en Retraso Salida, y así rellenamos los valores nulos con el valor correcto.\n"
   ]
  },
  {
   "cell_type": "code",
   "execution_count": 43,
   "id": "336bd5a6-8768-4e84-805d-8fbcead8ac8b",
   "metadata": {},
   "outputs": [
    {
     "name": "stdout",
     "output_type": "stream",
     "text": [
      "0\n"
     ]
    }
   ],
   "source": [
    "#Si el retraso de salida es mayor a 15 minutos es tarde, sino es puntual.\n",
    "df['SalidaTarde']=df['RetrasoSalida'].apply(lambda x:1 if x> 15 else 0)\n",
    "\n",
    "#Comprobamos si hay valores nulos en la columna Salida Tarde\n",
    "print(df['SalidaTarde'].isnull().sum())"
   ]
  },
  {
   "cell_type": "markdown",
   "id": "c81bd44e-8bfe-4ae0-8510-28df1d3a3a60",
   "metadata": {},
   "source": [
    "* Identifica y elimina cualquier valor atípico (outliers) en las columnas que determinan los retrasos de llegada y salida.\n"
   ]
  },
  {
   "cell_type": "code",
   "execution_count": 51,
   "id": "922d0a92-82e3-4e59-b778-800a7aa6bb74",
   "metadata": {},
   "outputs": [
    {
     "name": "stdout",
     "output_type": "stream",
     "text": [
      "Outliers en 'RetrasoSalida':\n",
      "             Fecha Compañía  AeropuertoOrigenID  \\\n",
      "3       2023-07-22       OO               13930   \n",
      "5       2023-07-28       UA               12478   \n",
      "9       2023-05-12       UA               12478   \n",
      "13      2023-07-17       AA               11298   \n",
      "26      2023-10-19       YV               11057   \n",
      "...            ...      ...                 ...   \n",
      "271888  2023-05-14       FL               13232   \n",
      "271906  2023-07-23       EV               11433   \n",
      "271924  2023-07-20       EV               11433   \n",
      "271937  2023-10-26       WN               12191   \n",
      "271939  2023-06-11       UA               14771   \n",
      "\n",
      "                       AeropuertoOrigen  AeropuertoDestinoID  \\\n",
      "3          Chicago O'Hare International                11042   \n",
      "5         John F. Kennedy International                14771   \n",
      "9         John F. Kennedy International                12892   \n",
      "13      Dallas/Fort Worth International                13487   \n",
      "26      Charlotte Douglas International                14683   \n",
      "...                                 ...                  ...   \n",
      "271888     Chicago Midway International                10397   \n",
      "271906       Detroit Metro Wayne County                10792   \n",
      "271924       Detroit Metro Wayne County                12264   \n",
      "271937                  William P Hobby                10821   \n",
      "271939      San Francisco International                14100   \n",
      "\n",
      "                                        AeropuertoDestino  \\\n",
      "3                         Cleveland-Hopkins International   \n",
      "5                             San Francisco International   \n",
      "9                               Los Angeles International   \n",
      "13                      Minneapolis-St Paul International   \n",
      "26                              San Antonio International   \n",
      "...                                                   ...   \n",
      "271888           Hartsfield-Jackson Atlanta International   \n",
      "271906                      Buffalo Niagara International   \n",
      "271924                    Washington Dulles International   \n",
      "271937  Baltimore/Washington International Thurgood Ma...   \n",
      "271939                         Philadelphia International   \n",
      "\n",
      "        HoraSalidaProgramada  RetrasoSalida  SalidaTarde  \\\n",
      "3                        804             35            1   \n",
      "5                       1710             87            1   \n",
      "9                       1759             40            1   \n",
      "13                      2025             95            1   \n",
      "26                      1138             47            1   \n",
      "...                      ...            ...          ...   \n",
      "271888                   639             65            1   \n",
      "271906                  1531             49            1   \n",
      "271924                  1008            142            1   \n",
      "271937                  1540             30            1   \n",
      "271939                  1338             60            1   \n",
      "\n",
      "        HoraLlegadaProgramada  RetrasoLlegada  LlegadaTarde  Cancelado  \n",
      "3                        1027              33             1          0  \n",
      "5                        2035             183             1          0  \n",
      "9                        2107              10             0          0  \n",
      "13                       2245              90             1          0  \n",
      "26                       1336              54             1          0  \n",
      "...                       ...             ...           ...        ...  \n",
      "271888                    929              61             1          0  \n",
      "271906                   1645             116             1          0  \n",
      "271924                   1138             133             1          0  \n",
      "271937                   1935              15             1          0  \n",
      "271939                   2200              40             1          0  \n",
      "\n",
      "[34058 rows x 13 columns]\n",
      "\n",
      "Outliers en 'RetrasoLlegada':\n",
      "             Fecha Compañía  AeropuertoOrigenID  \\\n",
      "5       2023-07-28       UA               12478   \n",
      "13      2023-07-17       AA               11298   \n",
      "26      2023-10-19       YV               11057   \n",
      "41      2023-08-11       UA               14771   \n",
      "54      2023-05-06       B6               12953   \n",
      "...            ...      ...                 ...   \n",
      "271888  2023-05-14       FL               13232   \n",
      "271906  2023-07-23       EV               11433   \n",
      "271924  2023-07-20       EV               11433   \n",
      "271925  2023-06-30       YV               12339   \n",
      "271936  2023-04-19       FL               10397   \n",
      "\n",
      "                                AeropuertoOrigen  AeropuertoDestinoID  \\\n",
      "5                  John F. Kennedy International                14771   \n",
      "13               Dallas/Fort Worth International                13487   \n",
      "26               Charlotte Douglas International                14683   \n",
      "41                   San Francisco International                12478   \n",
      "54                                     LaGuardia                11697   \n",
      "...                                          ...                  ...   \n",
      "271888              Chicago Midway International                10397   \n",
      "271906                Detroit Metro Wayne County                10792   \n",
      "271924                Detroit Metro Wayne County                12264   \n",
      "271925                Indianapolis International                12264   \n",
      "271936  Hartsfield-Jackson Atlanta International                11697   \n",
      "\n",
      "                               AeropuertoDestino  HoraSalidaProgramada  \\\n",
      "5                    San Francisco International                  1710   \n",
      "13             Minneapolis-St Paul International                  2025   \n",
      "26                     San Antonio International                  1138   \n",
      "41                 John F. Kennedy International                  1048   \n",
      "54       Fort Lauderdale-Hollywood International                  1455   \n",
      "...                                          ...                   ...   \n",
      "271888  Hartsfield-Jackson Atlanta International                   639   \n",
      "271906             Buffalo Niagara International                  1531   \n",
      "271924           Washington Dulles International                  1008   \n",
      "271925           Washington Dulles International                  1437   \n",
      "271936   Fort Lauderdale-Hollywood International                  1020   \n",
      "\n",
      "        RetrasoSalida  SalidaTarde  HoraLlegadaProgramada  RetrasoLlegada  \\\n",
      "5                  87            1                   2035             183   \n",
      "13                 95            1                   2245              90   \n",
      "26                 47            1                   1336              54   \n",
      "41                137            1                   1920             151   \n",
      "54                 88            1                   1801              87   \n",
      "...               ...          ...                    ...             ...   \n",
      "271888             65            1                    929              61   \n",
      "271906             49            1                   1645             116   \n",
      "271924            142            1                   1138             133   \n",
      "271925             -6            0                   1615              48   \n",
      "271936             24            1                   1218              61   \n",
      "\n",
      "        LlegadaTarde  Cancelado  \n",
      "5                  1          0  \n",
      "13                 1          0  \n",
      "26                 1          0  \n",
      "41                 1          0  \n",
      "54                 1          0  \n",
      "...              ...        ...  \n",
      "271888             1          0  \n",
      "271906             1          0  \n",
      "271924             1          0  \n",
      "271925             1          0  \n",
      "271936             1          0  \n",
      "\n",
      "[25319 rows x 13 columns]\n"
     ]
    }
   ],
   "source": [
    "import pandas as pd\n",
    "\n",
    "#Calculamos Q1, Q3 e IQR para Retraso Salida y Retraso Llegada\n",
    "Q1_salida = df['RetrasoSalida'].quantile(0.25)\n",
    "Q3_salida = df['RetrasoSalida'].quantile(0.75)\n",
    "IQR_salida = Q3_salida - Q1_salida\n",
    "\n",
    "Q1_llegada = df['RetrasoLlegada'].quantile(0.25)\n",
    "Q3_llegada = df['RetrasoLlegada'].quantile(0.75)\n",
    "IQR_llegada = Q3_llegada - Q1_llegada\n",
    "\n",
    "# Calcular los límites inferior y superior para detectar outliers\n",
    "limite_inferior_salida = Q1_salida - 1.5 * IQR_salida\n",
    "limite_superior_salida = Q3_salida + 1.5 * IQR_salida\n",
    "\n",
    "limite_inferior_llegada = Q1_llegada - 1.5 * IQR_llegada\n",
    "limite_superior_llegada = Q3_llegada + 1.5 * IQR_llegada\n",
    "\n",
    "# Detectar los outliers en las columnas 'RetrasoSalida' y 'RetrasoLlegada'\n",
    "outliers_salida = df[(df['RetrasoSalida'] < limite_inferior_salida) | (df['RetrasoSalida'] > limite_superior_salida)]\n",
    "outliers_llegada = df[(df['RetrasoLlegada'] < limite_inferior_llegada) | (df['RetrasoLlegada'] > limite_superior_llegada)]\n",
    "\n",
    "# Mostrar los outliers\n",
    "print(\"Outliers en 'RetrasoSalida':\")\n",
    "print(outliers_salida)\n",
    "\n",
    "print(\"\\nOutliers en 'RetrasoLlegada':\")\n",
    "print(outliers_llegada)"
   ]
  },
  {
   "cell_type": "markdown",
   "id": "c889b2f0-5748-4e7f-8335-5c93fdbe7e4b",
   "metadata": {},
   "source": [
    "Una vez identificados los outliers, eliminamos estos valores atípicos:"
   ]
  },
  {
   "cell_type": "code",
   "execution_count": 55,
   "id": "0b08252e-adde-46a3-a39a-fe9a8ab77432",
   "metadata": {},
   "outputs": [
    {
     "name": "stdout",
     "output_type": "stream",
     "text": [
      "Se han eliminado 36873 filas con valores atípicos.\n"
     ]
    }
   ],
   "source": [
    "#Filtrar el DataFrame eliminando los valores atípicos en ambas columnas\n",
    "df_limpio = df[\n",
    "    (df['RetrasoSalida'] >= Q1_salida - 1.5 * IQR_salida) & (df['RetrasoSalida'] <= Q3_salida + 1.5 * IQR_salida) &\n",
    "    (df['RetrasoLlegada'] >= Q1_llegada - 1.5 * IQR_llegada) & (df['RetrasoLlegada'] <= Q3_llegada + 1.5 * IQR_llegada)\n",
    "]\n",
    "\n",
    "#Mostrar la cantidad de filas eliminadas\n",
    "print(f\"Se han eliminado {df.shape[0] - df_limpio.shape[0]} filas con valores atípicos.\")\n"
   ]
  },
  {
   "cell_type": "markdown",
   "id": "2209fbef-dee4-45a8-a638-6db08ea71048",
   "metadata": {},
   "source": [
    "### 2.2 Utilice estadísticas, funciones de agregación y visualizaciones para responder a las siguientes preguntas:\n"
   ]
  },
  {
   "cell_type": "markdown",
   "id": "b738b88d-9847-4c06-9b59-3bc27fc817e2",
   "metadata": {},
   "source": [
    "* ¿Cuáles son los retrasos medios de salida y llegada?\n"
   ]
  },
  {
   "cell_type": "code",
   "execution_count": 64,
   "id": "92c3d349-e2d9-411c-9c07-19b442d965c8",
   "metadata": {},
   "outputs": [
    {
     "name": "stdout",
     "output_type": "stream",
     "text": [
      "Retraso medio de salida: 0.37 minutos\n",
      "Retraso medio de llegada: -4.03 minutos\n"
     ]
    }
   ],
   "source": [
    "#Calculamos el retraso medio de salida y llegada\n",
    "retraso_salida= df_limpio['RetrasoSalida'].mean()\n",
    "retraso_llegada= df_limpio ['RetrasoLlegada'].mean()\n",
    "\n",
    "print(f\"Retraso medio de salida: {retraso_salida:.2f} minutos\")\n",
    "print(f\"Retraso medio de llegada: {retraso_llegada:.2f} minutos\")"
   ]
  },
  {
   "cell_type": "markdown",
   "id": "8fcbadd7-ea2d-4c91-b20f-695584f074c9",
   "metadata": {},
   "source": [
    "Calculamos el retraso medio en minutos de los vuelos para las dos variables clave. Retraso Salida nos da los minutos que se retrasó el vuelo en despegar y Retraso Llegada mide cuánto se retrasó un vuelo en aterrizar. La función .mean() de Pandas calcula la media numérica. Suma los valores y los divide por la cantidad de registros. Con 2f al imprimir estamos imprimiendo solo dos decimales, para no tener demasiados decimales innecesarios.\n",
    "\n",
    "**¿Cuáles son los retrasos medios de salida y llegada?** El retraso medio de salida es de 0.37 minutos, lo que indica que los vuelos despegan a tiempo de manera generalizada. En cuanto al retraso medio de llegada es de -4.03 minutos, lo que indica que los vuelos llegan 4 minutos antes de la hora programada."
   ]
  },
  {
   "cell_type": "markdown",
   "id": "67d5eeff-6dda-4ec5-bcb1-c64c8fd1e8e8",
   "metadata": {},
   "source": [
    "* ¿Cómo se comportan las compañías aéreas en cuanto a los retrasos de llegada y salida medios se refiere?\n"
   ]
  },
  {
   "cell_type": "code",
   "execution_count": 72,
   "id": "3fd9bede-758e-4eb5-a5c2-147edf7ebeca",
   "metadata": {},
   "outputs": [
    {
     "name": "stdout",
     "output_type": "stream",
     "text": [
      "   Compañía  RetrasoSalida  RetrasoLlegada\n",
      "14       WN       4.034708       -0.863588\n",
      "7        FL       1.029935       -2.717458\n",
      "11       UA       0.910190       -7.088330\n",
      "6        F9       0.751232        0.642458\n",
      "1        AA       0.489730       -4.999310\n",
      "13       VX       0.067740       -4.917170\n",
      "9        MQ      -0.309735       -2.959516\n",
      "4        DL      -0.595213       -5.888902\n",
      "3        B6      -1.206471       -5.119020\n",
      "5        EV      -1.238524       -5.936101\n",
      "10       OO      -1.632686       -3.470170\n",
      "12       US      -1.672879       -3.366135\n",
      "15       YV      -1.788225       -3.204525\n",
      "0        9E      -2.020506       -6.965387\n",
      "8        HA      -2.801544       -2.420617\n",
      "2        AS      -3.054617       -3.890767\n"
     ]
    }
   ],
   "source": [
    "#Calculamos el retraso medio por aerolínea\n",
    "retrasos_aerolinea = df_limpio.groupby('Compañía')[['RetrasoSalida', 'RetrasoLlegada']].mean().reset_index()\n",
    "\n",
    "\n",
    "#Ordenamos por retraso medio de salida de mayor a menor\n",
    "retrasos_aerolinea=retrasos_aerolinea.sort_values(by='RetrasoSalida', ascending=False)\n",
    "\n",
    "print(retrasos_aerolinea)"
   ]
  },
  {
   "cell_type": "markdown",
   "id": "83455e5b-9961-4372-90b6-9d576668820f",
   "metadata": {},
   "source": [
    "Primero calculamos el retraso medio de salida y llegada por aerolínea con la función de media. Ordenamos de mayor a menor con sort values y mostramos de mayor a menor. "
   ]
  },
  {
   "cell_type": "markdown",
   "id": "4a1f2d0f-d3be-4be5-9d7d-be8b63ff235e",
   "metadata": {},
   "source": [
    "**¿Cómo se comportan las compañías aéreas en cuanto a los retrasos de llegada y salida medios se refiere?** La aerolínea con mayor retraso medio en la salida es WN (Southwest Airlines) con 4.03 minutos de retraso de media. La aerolínea con menor retraso medio en la salida es AS (Alaska Airlines) que incluso adelanta sus vuelos en promedio 3.05 minutos. \n",
    "En cuanto a la llegada, la aerolínea más puntual es F9 (Frontier Airlines) con un adelanto de 0.64 minutos, mientras que UA(United Airlines) tiene el mayor retraso medio de llegada, con 7.08 minutos. \n",
    "La mayoría de las aerolíneas muestran valores negativos en retraso de llegada, por lo que se concluye que suelen aterrizar antes de lo previsto. \n"
   ]
  },
  {
   "cell_type": "markdown",
   "id": "719fcccc-4a09-4e4d-bc36-879ffccbe9d6",
   "metadata": {},
   "source": [
    "* ¿Qué aeropuerto tiene el mayor número de retrasos de salida?"
   ]
  },
  {
   "cell_type": "code",
   "execution_count": 81,
   "id": "951dc9cd-bd3d-4dac-aaac-4344e67b676f",
   "metadata": {},
   "outputs": [
    {
     "name": "stdout",
     "output_type": "stream",
     "text": [
      "                            AeropuertoOrigen  NumeroRetrasos\n",
      "19  Hartsfield-Jackson Atlanta International            4548\n",
      "12           Dallas/Fort Worth International            3890\n",
      "13                      Denver International            3729\n",
      "8               Chicago O'Hare International            3684\n",
      "31                 Los Angeles International            3521\n",
      "..                                       ...             ...\n",
      "66                      Tucson International             208\n",
      "65              Theodore Francis Green State             200\n",
      "54                    Richmond International             194\n",
      "64       Ted Stevens Anchorage International             135\n",
      "30                        Long Beach Airport             115\n",
      "\n",
      "[70 rows x 2 columns]\n"
     ]
    }
   ],
   "source": [
    "#Filtramos los vuelos con retraso en la salida (RetrasoSalida>0)\n",
    "df_retrasos_salida=df_limpio[df_limpio['RetrasoSalida']>0]\n",
    "\n",
    "#Agrupamos por aeropuerto de salida y contamos el número de vuelos con retraso\n",
    "retrasos_aeropuerto= df_retrasos_salida.groupby('AeropuertoOrigen').size().reset_index(name='NumeroRetrasos')\n",
    "\n",
    "#Ordenamos de mayor a menor\n",
    "retrasos_aeropuerto=retrasos_aeropuerto.sort_values(by='NumeroRetrasos',ascending=False)\n",
    "print(retrasos_aeropuerto)"
   ]
  },
  {
   "cell_type": "code",
   "execution_count": 85,
   "id": "25009f9b-bfe5-4884-a234-511182606fd8",
   "metadata": {},
   "outputs": [
    {
     "data": {
      "image/png": "[encoded data removed]",
      "text/plain": [
       "<Figure size 1200x600 with 1 Axes>"
      ]
     },
     "metadata": {},
     "output_type": "display_data"
    }
   ],
   "source": [
    "#Visualizamos los 10 aeropuertos con más retrasos de salida\n",
    "plt.figure(figsize=(12,6))\n",
    "plt.barh(retrasos_aeropuerto.head(10)['AeropuertoOrigen'], retrasos_aeropuerto.head(10)['NumeroRetrasos'])\n",
    "plt.xlabel(\"Número de Retrasos de Salida\")\n",
    "plt.ylabel(\"Aeropuerto de Salida\")\n",
    "plt.title(\"Top 10 Aeropuertos con más Retrasos de Salida\")\n",
    "plt.gca().invert_yaxis() \n",
    "plt.show()"
   ]
  },
  {
   "cell_type": "markdown",
   "id": "0611385a-31dd-4e42-9191-d8adf0d5c398",
   "metadata": {},
   "source": [
    "Primero hemos filtrado los vuelos con retraso en la salida. Usamos groupby y size para contar cuántos vuelos hay con retraso en cada uno de los aeropuertos. Ordenamos los aeropuertos de maor a menor en función del número de retrasos. \n",
    "Creamos un gráfico de barras horizontales para ver cuáles son los 10 aeroupertos con más retrasos en la salida. \n",
    "**¿Qué aeropuerto tiene el mayor número de retrasos de salida?** El aeropuerto Hartsfiel-Jackson Atlanta International lidera el ranking con 4548 vuelos retrasados. "
   ]
  },
  {
   "cell_type": "code",
   "execution_count": null,
   "id": "9f9092b5-4e9c-4bf2-8925-0a99c87e168f",
   "metadata": {},
   "outputs": [],
   "source": []
  }
 ],
 "metadata": {
  "kernelspec": {
   "display_name": "Python [conda env:base] *",
   "language": "python",
   "name": "conda-base-py"
  },
  "language_info": {
   "codemirror_mode": {
    "name": "ipython",
    "version": 3
   },
   "file_extension": ".py",
   "mimetype": "text/x-python",
   "name": "python",
   "nbconvert_exporter": "python",
   "pygments_lexer": "ipython3",
   "version": "3.12.7"
  }
 },
 "nbformat": 4,
 "nbformat_minor": 5
}
